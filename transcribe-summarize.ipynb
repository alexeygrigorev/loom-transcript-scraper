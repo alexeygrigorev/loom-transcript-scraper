{
 "cells": [
  {
   "cell_type": "code",
   "execution_count": 1,
   "id": "4c0b467a-ef6b-46d7-9242-d0e342bdfa50",
   "metadata": {},
   "outputs": [],
   "source": [
    "from glob import glob"
   ]
  },
  {
   "cell_type": "code",
   "execution_count": 16,
   "id": "abcb4b8f-af80-4ab7-a0aa-ceca8bc4330c",
   "metadata": {},
   "outputs": [],
   "source": [
    "from pathlib import Path"
   ]
  },
  {
   "cell_type": "code",
   "execution_count": 23,
   "id": "b0e93828-39d8-41d0-9627-7cb22e72db14",
   "metadata": {},
   "outputs": [],
   "source": [
    "directory = Path(r'C:\\Users\\alexe\\Downloads\\Telegram Desktop\\ChatExport_2024-09-02\\voice_messages')"
   ]
  },
  {
   "cell_type": "code",
   "execution_count": 26,
   "id": "f7a78ddc-eff9-4da4-85a2-005d3c72641e",
   "metadata": {},
   "outputs": [],
   "source": [
    "files = directory.glob('*.ogg')\n",
    "files = sorted(files)"
   ]
  },
  {
   "cell_type": "code",
   "execution_count": 27,
   "id": "025a9a60-9dd5-4787-be3c-0c11a2044b63",
   "metadata": {},
   "outputs": [],
   "source": [
    "f = files[0]"
   ]
  },
  {
   "cell_type": "code",
   "execution_count": 13,
   "id": "c12b489c-8c1a-4c75-a2df-a7dcf5c022b9",
   "metadata": {},
   "outputs": [],
   "source": [
    "from openai import OpenAI\n",
    "client = OpenAI()"
   ]
  },
  {
   "cell_type": "code",
   "execution_count": 31,
   "id": "a2754416-5904-426a-a52d-da91133120b1",
   "metadata": {},
   "outputs": [],
   "source": [
    "results = {}"
   ]
  },
  {
   "cell_type": "code",
   "execution_count": 32,
   "id": "62a83dfe-ce67-440c-8493-702bb1ed55a7",
   "metadata": {},
   "outputs": [],
   "source": [
    "from tqdm.auto import tqdm"
   ]
  },
  {
   "cell_type": "code",
   "execution_count": 34,
   "id": "8acebb91-51ed-4557-b718-7ca7a13be588",
   "metadata": {},
   "outputs": [
    {
     "data": {
      "application/vnd.jupyter.widget-view+json": {
       "model_id": "cfc9aec883b64a8d834e1fa625020a46",
       "version_major": 2,
       "version_minor": 0
      },
      "text/plain": [
       "  0%|          | 0/200 [00:00<?, ?it/s]"
      ]
     },
     "metadata": {},
     "output_type": "display_data"
    },
    {
     "name": "stdout",
     "output_type": "stream",
     "text": [
      "audio_100@06-08-2024_11-40-47.ogg Another thing we should improve is, so right now all our process documents focus on how to do someth\n",
      "audio_101@06-08-2024_11-41-16.ogg So first, we want to understand why we need to do this. So why is our community members want to have\n",
      "audio_102@06-08-2024_11-41-41.ogg Then another thing is when to do this, so you do this every month when there is a reminder and this \n",
      "audio_103@06-08-2024_11-42-09.ogg And also what I just said about that process documents should be complete and that the process docum\n",
      "audio_104@06-08-2024_11-43-24.ogg So I don't do to-do for this one. I don't know if you want me to do to edit to-do or maybe you want \n",
      "audio_105@06-08-2024_12-01-20.ogg Yeah, that's right try to use something very close to what I said\n",
      "audio_106@06-08-2024_12-10-34.ogg One of the things you can do is download the voice messages that I sent. I don't know if you can do \n",
      "audio_107@06-08-2024_12-11-58.ogg Jā, tas ir ļoti kļūti treneris. Vēlētos vēlētos vēlētos.\n",
      "audio_108@06-08-2024_13-50-27.ogg I think I mentioned it in one of the voice notes or maybe in loom I don't remember but yeah so Maybe\n",
      "audio_109@06-08-2024_13-51-11.ogg Um, that is a bit too formal to my taste. We can simplify it.\n",
      "audio_10@16-01-2024_23-48-58.ogg Please set this up, and it should be the same link as we used for this week, yesterday, for the intr\n",
      "audio_110@06-08-2024_13-51-23.ogg I am talking about the context you wrote. So maybe let's first split it into why and when, like exac\n",
      "audio_111@06-08-2024_13-52-46.ogg This is just for me so I can easily read it and record the voice note at the same time.\n",
      "audio_112@06-08-2024_13-54-44.ogg So, first of all, it's not context. Let's split it into two parts. Why and when. Then, when it comes\n",
      "audio_113@06-08-2024_13-56-05.ogg So I took a look at the entire document, it looks fine, please don't use BOLD there, like I don't un\n",
      "audio_114@06-08-2024_14-17-37.ogg I quite often send voice notes, so maybe what I just showed you will be useful. And also, like, when\n",
      "audio_115@10-08-2024_15-21-38.ogg So Luma is for people, for registering on events. So first we create a Luma event, and then it doesn\n",
      "audio_116@10-08-2024_15-22-07.ogg As for Eventbrite process documents, when we move them to the new shared drive, let's just not move \n",
      "audio_117@10-08-2024_15-23-29.ogg Sorry, I did not see that. So sometimes when people do not respond with bio, we take a genetic bio. \n",
      "audio_118@10-08-2024_15-23-45.ogg And yeah, sorry I was not, I didn't reply to your messages because I just missed them. So if it happ\n",
      "audio_119@10-08-2024_15-24-47.ogg So this one, you get this to do when Dave uploads an edited podcast episode to our Dropbox. So when \n",
      "audio_11@17-01-2024_17-18-32.ogg I have added the event to the card.\n",
      "audio_120@10-08-2024_15-27-33.ogg So here what usually happens is previously Francis would ping me saying that hey like for this docum\n",
      "audio_121@12-08-2024_09-41-52.ogg Can you please make sure that in the onboarding document we have a list of all the services that you\n",
      "audio_122@12-08-2024_14-37-49.ogg So the process is we do it every month at the end of the month most of the document that you send is\n",
      "audio_123@12-08-2024_14-38-50.ogg Also, when you open the bookkeeping document, you will see that there are to-dos, so you will need t\n",
      "audio_124@12-08-2024_14-39-25.ogg I'm still not following. So she, Ella, wants to do it in September, not in August, correct? And in S\n",
      "audio_125@12-08-2024_14-40-03.ogg Or we can offer her a date on some day in October, for example, right? So usually we do one event pe\n",
      "audio_126@12-08-2024_15-01-12.ogg Okay, so here we have a special flow process, when somebody asks, like introduces us to some speaker\n",
      "audio_127@12-08-2024_15-02-45.ogg Also, when we prepare a tax report, we need to, there is probably also a process document, and if th\n",
      "audio_128@12-08-2024_18-06-18.ogg Yeah, definitely the first one we will do together and there will be still time to fix it if somethi\n",
      "audio_129@12-08-2024_18-06-24.ogg I don't think there are specific sequences mentioned anywhere.\n",
      "audio_12@17-01-2024_17-18-36.ogg I have added the event to the calendar with Matt.\n",
      "audio_130@12-08-2024_18-09-28.ogg Well, typically the process is you open the bookkeeping report for a specific month, so there is a d\n",
      "audio_131@14-08-2024_09-51-12.ogg Evening? No. I think Andrea is in the Central European time zone, so if possible let's have a podcas\n",
      "audio_132@14-08-2024_09-51-34.ogg and in general I prefer evenings to be to have free evenings so I try to avoid having things on even\n",
      "audio_133@14-08-2024_09-52-05.ogg Yeah, maybe check with Valeria what exactly is best to do there But here I think by announcing the e\n",
      "audio_134@14-08-2024_09-52-21.ogg But yeah, everything that is not clear we should clarify of course And everything should have links.\n",
      "audio_135@14-08-2024_10-13-32.ogg And do you see the to-dos? So for this to-dos you need to open the Dropbox folder and open the invoi\n",
      "audio_136@14-08-2024_10-13-44.ogg It's possible, it's quite possible that there is no process document for that. In this case, we will\n",
      "audio_137@15-08-2024_10-55-36.ogg There should be a process document that describes this but we have the CRM where we have companies I\n",
      "audio_138@15-08-2024_10-55-48.ogg um if you scroll up you should see how francis was doing that in the announcement channel but i'm pr\n",
      "audio_139@15-08-2024_10-56-15.ogg I think the way we count it is for each season we have episodes 1 through 9 and then it starts again\n",
      "audio_13@22-01-2024_17-12-10.ogg Please check how many campaigns, email campaigns, weights and biases had last year. Cause in the con\n",
      "audio_140@15-08-2024_15-07-12.ogg Okay, so when I send the link and say that this is a sponsored post We just put this to CRM. We don'\n",
      "audio_141@15-08-2024_15-08-11.ogg So we make money through sponsorship and the reason I want to keep track of posts like the one from \n",
      "audio_142@15-08-2024_15-49-06.ogg I'm now getting notifications for Luma events and I think there is a toggle that turns it off please\n",
      "audio_143@15-08-2024_15-55-33.ogg And I don't know so I just don't want to receive emails every time somebody signs up That's it. I do\n",
      "audio_144@15-08-2024_15-55-49.ogg Please make sure it's a part of the process document\n",
      "audio_145@15-08-2024_16-04-52.ogg Also, don't forget to update Meetup and the Google Calendar, the community Google Calendar.\n",
      "audio_146@15-08-2024_16-22-37.ogg So you probably know, I just wanted to make sure I say it. So when I mean calendar invite, calendar \n",
      "audio_147@19-08-2024_07-02-53.ogg So usually as you saw Ella kinda I think she requested to move the podcast episode I am not sure but\n",
      "audio_148@19-08-2024_09-22-22.ogg I think I already told you how you should approach that. I'll just repeat it just in case. So, 9am P\n",
      "audio_149@20-08-2024_10-44-41.ogg So exactly when it's set for today, so when it's set for today, but the speaker bounces for whatever\n",
      "audio_14@22-01-2024_17-12-50.ogg So I just lost my thought. So I wanted to ask you to ask Agata if they plan to have any more email c\n",
      "audio_150@20-08-2024_11-21-52.ogg I don't understand the question like how an invoice cannot be in Phenom if you create it in Phenom? \n",
      "audio_151@20-08-2024_11-22-54.ogg It was a bit noisy, so I... Okay, let me continue. So if they decide to sponsor us, what we do next \n",
      "audio_152@20-08-2024_12-14-53.ogg So invoices that we send to customers are in Finom, and yes, we need to put them to Dropbox. Invoice\n",
      "audio_153@20-08-2024_12-15-23.ogg So, typically we create invoices, we save invoices from FIDOM to Dropbox is when we prepare this rep\n",
      "audio_154@20-08-2024_12-15-39.ogg Also, please make sure that everything I say is somehow captured somewhere. So, like, maybe in some \n",
      "audio_155@20-08-2024_12-27-57.ogg So, when we pay for a product or a service, we get an invoice or a receipt. So, this is confirmation\n",
      "audio_156@20-08-2024_12-29-31.ogg And, for example, for invoices that we receive, there are two kinds of invoices, or not kinds, but s\n",
      "audio_157@20-08-2024_12-39-05.ogg There should be a process document for creating events. So you, from your calendar, create an event \n",
      "audio_158@20-08-2024_12-40-54.ogg So I want to ask you for a favor, when you want to do something please first try to find the process\n",
      "audio_159@21-08-2024_10-12-24.ogg So, if you need to pay an invoice, I'll explicitly tell you that you need to do that. Usually, eithe\n",
      "audio_15@24-01-2024_13-54-25.ogg so the title doesn't really reflect the content is this prepared by the guest or Johanna I guess it'\n",
      "audio_160@21-08-2024_10-12-35.ogg What do you mean incoming invoices are not in Venom?\n",
      "audio_161@21-08-2024_10-12-48.ogg like i don't think they should be there or what exactly what do you exactly mean\n",
      "audio_162@21-08-2024_11-25-25.ogg Please don't use Google. This is outdated. I recently sent you a link to, I think, VICE. And in VICE\n",
      "audio_163@21-08-2024_11-26-07.ogg I think the deleted one was a duplicate, accidental duplicate, so please remove the line from the sp\n",
      "audio_164@21-08-2024_11-27-51.ogg Everything looks fine, please also check in Finom and in Revolut if we had any income or expenses th\n",
      "audio_165@21-08-2024_11-28-52.ogg Also, I think I already asked you, and you probably do that already, but in case I didn't and you di\n",
      "audio_166@21-08-2024_18-52-57.ogg For this one, it's very important to add only those who opted in so when they register There is a ch\n",
      "audio_167@21-08-2024_18-53-45.ogg So for that one, we should check which one we haven't uploaded, but we should do this too for every \n",
      "audio_168@21-08-2024_18-53-55.ogg No, Pavel does not work with us anymore.\n",
      "audio_169@21-08-2024_18-56-05.ogg Yeah, so let's check with the Natasha what they actually want to do if they want we of course like i\n",
      "audio_16@25-01-2024_21-10-06.ogg We should reach out to all the past clients that used a newsletter and also others that didn't. Like\n",
      "audio_170@21-08-2024_19-37-40.ogg I got a request from our account manager that you want to reduce your working hours. It's totally fi\n",
      "audio_171@22-08-2024_12-42-33.ogg Usually in this case I ask, so it looks like they are a company, usually I ask if they want to suppo\n",
      "audio_172@23-08-2024_09-38-34.ogg Oh wait, why do you want to announce it from my LinkedIn? So please check with Valeria how do we usu\n",
      "audio_173@23-08-2024_09-39-09.ogg So you usually don't use my LinkedIn unless I ask you this could be for reaching out to speakers to \n",
      "audio_174@23-08-2024_09-39-45.ogg So when you go to LinkedIn, what happened in the past is sometimes we would create an event but inst\n",
      "audio_175@23-08-2024_09-52-38.ogg So what I meant is we just tried like similar to what you do with announcement it's like you do the \n",
      "audio_176@23-08-2024_09-55-30.ogg Can you please check if this checkbox was ticked in other events that have already happened? I'm jus\n",
      "audio_177@23-08-2024_09-55-54.ogg For Twitter I think you should have login credentials right now, they were shared in the chat with V\n",
      "audio_178@23-08-2024_10-06-48.ogg I want to make sure that you now can do the podcasting content, meaning that after it went live and \n",
      "audio_179@23-08-2024_11-02-05.ogg So it might be also confusing when I say please make sure everything is documented you might think o\n",
      "audio_17@25-01-2024_22-09-57.ogg You can write something like, hey, Sahar, we've noticed that you are planning an event and we wanted\n",
      "audio_180@23-08-2024_18-23-35.ogg So with Elena, we agreed on the 10th of September at 1 p.m. At 1 o'clock my time So I already create\n",
      "audio_181@26-08-2024_09-55-41.ogg Yeah, so when you go to the right in our schedule, you will see that there are slots for Book of the\n",
      "audio_182@26-08-2024_09-55-55.ogg So yeah, please update the process documents so it's clear how to do that.\n",
      "audio_183@26-08-2024_10-12-39.ogg Yeah, I don't know why there is this date. We can just send it as is and our accountants will figure\n",
      "audio_184@26-08-2024_10-13-14.ogg So yeah, you can continue preparing the invoice, even though there are discrepancies with the dates,\n",
      "audio_185@26-08-2024_12-26-00.ogg No, I don't think so. I don't think we usually ask authors about that. What we do is we ask them to \n",
      "audio_186@26-08-2024_12-50-54.ogg Regarding the email you just sent, we, as I mentioned, maybe you forgot, it's okay, don't worry. Ins\n",
      "audio_187@26-08-2024_17-40-41.ogg I think Quack already has a slot. Remind them, maybe they forgot. I'm referring to the email from Am\n",
      "audio_188@26-08-2024_18-37-30.ogg At some point I was explaining to you how we can schedule open source spotlight events when it's out\n",
      "audio_189@27-08-2024_09-36-59.ogg So this is, we use this one when we already agreed that the person wants to speak. The process is fi\n",
      "audio_18@25-01-2024_22-13-17.ogg Also, please ping AI Infrastructure Alliance about the overdue payments. I pinged Maria in Slack sep\n",
      "audio_190@27-08-2024_12-34-51.ogg There should be something Similar but for LinkedIn. So all we have right now is their LinkedIn profi\n",
      "audio_191@27-08-2024_12-36-14.ogg There should be a process document that describes how to add ads in general like promotions and Perh\n",
      "audio_192@27-08-2024_13-03-18.ogg Yeah, you need to do that every time there is like a new thing, like a new podcast and so on.\n",
      "audio_193@27-08-2024_13-03-50.ogg Also for ParadeDB please take a look at the messages before you edit because there are... Yesterday \n",
      "audio_194@27-08-2024_13-25-05.ogg I just forwarded you a message for a newsletter promotion. This is what we usually start two weeks b\n",
      "audio_195@27-08-2024_13-34-49.ogg Also, I want you to focus this week on getting through all the podcast stuff, especially the transcr\n",
      "audio_196@29-08-2024_20-19-30.ogg I just noticed that you added the ParadeDB video to the open source spotlight playlist. We shouldn't\n",
      "audio_197@31-08-2024_09-52-31.ogg yeah when you download the files so you don't do this through the browser when you download the file\n",
      "audio_198@31-08-2024_09-52-35.ogg Is it not mentioned in the process documents?\n",
      "audio_199@02-09-2024_09-58-02.ogg So the process is, you need to create a copy, like a special, we have a template, a document. You cr\n",
      "audio_19@26-01-2024_08-48-46.ogg I know you already have a lot of things that I sent you yesterday Also, I wanted to remind you to se\n",
      "audio_1@04-07-2023_10-06-31.ogg Maria from YLABS is asking about the USD account. It means they probably want to pay in American dol\n",
      "audio_200@02-09-2024_09-58-22.ogg and so in these cases when you are not sure what to answer please let me know as soon as possible do\n",
      "audio_20@26-01-2024_12-16-52.ogg Also, for this webinar with Sahar, let's use the same subject. So it's Quack plus Data Talks Club, n\n",
      "audio_21@29-01-2024_13-56-41.ogg Too bad, I noticed it only now. So the reason I noticed is because there is another email about Quac\n",
      "audio_22@03-02-2024_16-28-05.ogg Did we send it in the voice? I asked you to prepare for the course workshops for two days for 1,000.\n",
      "audio_23@03-02-2024_21-27-40.ogg Please create an invoice for $5,000, US dollars, for Saturn Cloud. I think we should already have Sa\n",
      "audio_24@07-02-2024_19-16-28.ogg So our accounts accountants tell me Have told me that We have not sent them the documents so they ex\n",
      "audio_25@13-02-2024_13-58-12.ogg They both just sent me a connection request and I think they have an interesting profile. So what yo\n",
      "audio_26@14-02-2024_16-30-52.ogg Please make sure that all the events on Luma are also, I'm also hosting them because I cannot change\n",
      "audio_27@15-02-2024_21-52-35.ogg So what I just forwarded you is We asked this is related to your question from Gonzalo What kind of \n",
      "audio_28@22-02-2024_20-04-47.ogg when you reply you can say yeah thanks for pointing out here's the updated in voice with USD\n",
      "audio_29@23-02-2024_14-07-17.ogg Hey Francis, never convert euros to USD directly. Use Google. We have process documents for that. Wh\n",
      "audio_2@23-08-2023_13-35-55.ogg Hey, I just added, I just closed one of the newsletter slots in September, please send them, please \n",
      "audio_30@29-02-2024_17-35-38.ogg Did quack confirm so if they did and I think there are two free slots for March, right? So if double\n",
      "audio_31@29-02-2024_17-51-07.ogg Okay, so maybe add a note somewhere in a process document or somewhere else. So I think you know tha\n",
      "audio_32@29-02-2024_21-50-57.ogg so we can tell them something like yeah it was a bit of a short notice looks like we didn't manage t\n",
      "audio_33@01-03-2024_09-35-13.ogg So we can tell them something like, yeah, with payment link it's possible. So, but we add like 2% or\n",
      "audio_34@02-03-2024_11-49-57.ogg So when you write on a Hita about the scheduling please apologize to hear about miscommunication and\n",
      "audio_35@02-03-2024_12-31-19.ogg You can ask her to send us, to send me or you, just give answer with email, so then you can contact \n",
      "audio_36@02-03-2024_12-33-37.ogg Also, Hagop, one of the speakers, previous speakers, wants to speak again. I have asked him to write\n",
      "audio_37@03-03-2024_23-01-16.ogg Also, please write on a heater that tomorrow we do not have a call I From our conversation with Joha\n",
      "audio_38@13-03-2024_07-53-12.ogg It just occurred to me, did we send the emails of people who registered for the workshops for both D\n",
      "audio_39@13-03-2024_07-53-33.ogg Yeah, and also for the other workshop that we had recently, was it from Curren AI? Yeah, I think it \n",
      "audio_3@20-11-2023_15-54-31.ogg So what I was going to write here is, no, we unfortunately cannot send the YouTube links in advance,\n",
      "audio_40@18-03-2024_13-41-43.ogg So, I don't think it was average, we usually have fewer viewers joining live. So maybe what you can \n",
      "audio_41@18-03-2024_13-42-44.ogg Yeah, you write number of participants. This is the number of people who registered. So this is a ve\n",
      "audio_42@18-03-2024_13-43-05.ogg and yeah thanks for picking this up because like I completely missed that email even though I see my\n",
      "audio_43@24-03-2024_10-38-31.ogg Okay, I still need your ideas on how to make sure we don't miss on important things like sending tem\n",
      "audio_44@24-03-2024_10-40-34.ogg Yeah, so regarding that reminder, so what I want you to do is every day, I want to check if we need,\n",
      "audio_45@24-03-2024_10-41-04.ogg And then I know that it's not the most effective way, like maybe you can think of a different way of\n",
      "audio_46@24-03-2024_10-42-41.ogg And please also When you do that, I want you to create two Process documents. So the first process d\n",
      "audio_47@24-03-2024_10-44-32.ogg Also another note, I want you to be super careful and double-check everything when it comes to deali\n",
      "audio_48@24-03-2024_10-45-00.ogg And of course, like when we talk to potential guests or guests or podcast guests, we also want to be\n",
      "audio_49@12-04-2024_13-08-35.ogg Maybe try something like this. Hey Helen, happy Friday. We soon will have described what we will hav\n",
      "audio_4@20-11-2023_15-55-06.ogg But you can tell here that we will tag weights and biases when we make the announcement. We'll make \n",
      "audio_50@12-04-2024_13-27-43.ogg Maybe add a little bit of context in case she doesn't remember that typically we give them five copi\n",
      "audio_51@19-04-2024_11-19-02.ogg So maybe I can share a tip with you So when I watched a video and then I want to make sure I don't f\n",
      "audio_52@02-05-2024_14-37-25.ogg So, let's plan a pre-launch Q&A for next Tuesday at 4.30 p.m. Central European time, Berlin time, fo\n",
      "audio_53@06-05-2024_18-36-26.ogg yeah my idea with this document where we put like if there is a mistake we put the mistake and how t\n",
      "audio_54@21-05-2024_08-41-54.ogg Remember, I recently asked you to upload a video from Antonis, so please use that video for the URL \n",
      "audio_55@21-05-2024_08-42-09.ogg Ir pasirinkite jį į e-mailį. Jūs pasirinkite e-mailį su mūsų, pasirinkite jį ir pasirinkite e-mailį \n",
      "audio_56@21-05-2024_19-33-48.ogg Hi everyone! Welcome to day and number of the day of Project of the Week Data Version Control. We're\n",
      "audio_57@04-06-2024_09-37-48.ogg And maybe ask them if they know and if they can put us in touch with a marketing person because we s\n",
      "audio_58@06-06-2024_16-12-54.ogg I don't know if we already have a process document for that, but maybe create a process document whe\n",
      "audio_59@06-06-2024_17-56-00.ogg By the way, the workshop for Akella is sponsored by DLT Hub, so get the logo from the previous one, \n",
      "audio_5@27-11-2023_15-30-31.ogg So, I know that right now for Luma we use square banners, and previously we used rectangular banners\n",
      "audio_60@07-06-2024_07-33-56.ogg So first thing is when I send a screenshot from some clients, then it means that we received the mon\n",
      "audio_61@07-06-2024_17-44-49.ogg It's better to say that the last month we accidentally sent you a wrong invoice. The reason was that\n",
      "audio_62@07-06-2024_17-45-22.ogg And yeah, please make sure that the invoice is not just for VAT, but that this is the sum for the ne\n",
      "audio_63@07-06-2024_17-47-47.ogg I think we should be as detailed as possible so it's very important so please describe you say that \n",
      "audio_64@07-06-2024_17-52-58.ogg Yeah, I think it's okay if in the table, in our bookkeeping spreadsheet, we have the first invoice o\n",
      "audio_65@10-06-2024_15-05-03.ogg Do we use the CRM for tracking payments? I just saw the email from Elisabetta from DoubleCloud and m\n",
      "audio_66@12-06-2024_20-23-12.ogg So the other file is actually a tool that I wrote that allows to use this ffmpeg And you don't need \n",
      "audio_67@14-06-2024_20-00-02.ogg So it should be Right there that it's six newsletters so call it a Sponsorship then in the same line\n",
      "audio_68@02-07-2024_15-30-40.ogg I just noticed that Arise has used all their promotion slots So maybe we should ping them and ask if\n",
      "audio_69@02-07-2024_16-02-54.ogg So a small comment about that. We don't want to be, to look too available. So this way they will, th\n",
      "audio_6@09-12-2023_17-35-55.ogg Hey, Francis, what would be convenient if you kept using the spreadsheet that you typically use, but\n",
      "audio_70@04-07-2024_17-12-53.ogg so you see how much the line is like for taxes it's quite a lot so usually that one was so usually t\n",
      "audio_71@08-07-2024_09-17-26.ogg Our lawyer just told me that we don't have the right cover for the recent webinar, that we have a po\n",
      "audio_72@08-07-2024_19-36-05.ogg I moved the events with Rafael to next Thursday Just in case we don't forget to so that we don't for\n",
      "audio_73@29-07-2024_16-28-39.ogg Yeah, sometimes I will be recording voice messages, sometimes I'll be recording Loom videos. So with\n",
      "audio_74@01-08-2024_11-49-21.ogg So, yeah, it's sort of correct, but we typically, the process is following. So when we arrange a pod\n",
      "audio_75@01-08-2024_12-51-29.ogg So this one is when I or you or somebody already speaks with somebody over social media or Slack or \n",
      "audio_76@01-08-2024_12-51-50.ogg I think actually like for the thing you sent for the screenshot like it already says when to use but\n",
      "audio_77@01-08-2024_12-53-10.ogg So, in order to, like, for that document, for that, for Marissa, what we should do there is, so, som\n",
      "audio_78@01-08-2024_12-54-31.ogg So if she says okay I cannot find time for us to do this what we should do and this is what I do is \n",
      "audio_79@01-08-2024_12-55-28.ogg A few notes for that. So you need, in order to do that, you need to have access to my Google Calenda\n",
      "audio_7@10-01-2024_14-23-20.ogg Actually, I cannot find this event in our meetup group. I think we had it. Maybe we did not. I canno\n",
      "audio_80@01-08-2024_13-26-02.ogg And so for Airtable, we need to use my account because for, unlike some other services, in Airtable,\n",
      "audio_81@01-08-2024_14-27-58.ogg I don't know if you need any advice from me, but maybe like the way I would approach it is like when\n",
      "audio_82@02-08-2024_20-44-04.ogg Yeah, apologies, I hope I didn't scare you. So yeah, you don't really need to work on Saturday. One \n",
      "audio_83@02-08-2024_20-57-29.ogg For MailChimp, did you get any emails from me about that? Not from me, but I think I sent you a requ\n",
      "audio_84@02-08-2024_21-00-41.ogg As for the podcast, the way it works is first we, with the speaker, agree on time and we do it live.\n",
      "audio_85@02-08-2024_21-03-10.ogg So, yeah, in terms of flexibility, you have 20 hours per week and it's up to you how exactly you dis\n",
      "audio_86@02-08-2024_21-03-23.ogg Okay, I'll send you an invite.\n",
      "audio_87@02-08-2024_21-13-13.ogg I just shared an invite with you. Why do you still try to use LastPass? So we don't need to use Last\n",
      "audio_88@02-08-2024_21-13-23.ogg So you're saying you cannot access our table with the password I shared in chat with Valeria, right?\n",
      "audio_89@02-08-2024_21-14-26.ogg For this one, day one, what I wanted is something like you write Monday, then the date in parenthesi\n",
      "audio_8@10-01-2024_18-02-57.ogg So the reason we don't create a luma event, but create a meetup event is because we have a lot of fo\n",
      "audio_90@02-08-2024_21-16-07.ogg Yeah, looks like the password was not correct, so I updated it. Please use that. And it would have b\n",
      "audio_91@05-08-2024_17-33-22.ogg okay so actually for the newsletter check the Trello cart there are many things there and the newsle\n",
      "audio_92@05-08-2024_17-33-43.ogg all right you had a chat with her today and this question is not from today right i somehow missed i\n",
      "audio_93@05-08-2024_17-33-51.ogg By the way, how is it going with the migration project?\n",
      "audio_94@05-08-2024_17-34-04.ogg Again, for this one you need to talk to Valeria.\n",
      "audio_95@05-08-2024_17-37-03.ogg So let me repeat that. Let me just go over this. So for the podcast, we schedule it live, yes, and t\n",
      "audio_96@05-08-2024_17-37-40.ogg But yeah basically that's it. Also talk to Valeria because she might have an idea how exactly you ca\n",
      "audio_97@05-08-2024_17-52-17.ogg That's awesome. Can you please put this all to the onboarding document?\n",
      "audio_98@05-08-2024_17-55-15.ogg And in general all the things you learn it would be nice to put there so they are not lost\n",
      "audio_99@06-08-2024_11-40-10.ogg So I want the process documents to be complete, in a sense that everything is there, like you don't \n",
      "audio_9@15-01-2024_20-31-17.ogg It just occurred to me, have we sent a template to the next week's sponsors? I just don't remember s\n"
     ]
    }
   ],
   "source": [
    "for f in tqdm(files):\n",
    "    with f.open('rb') as audio_file:\n",
    "        transcription = client.audio.transcriptions.create(\n",
    "            model=\"whisper-1\", \n",
    "            file=audio_file,\n",
    "\n",
    "        )\n",
    "    text = transcription.text\n",
    "    print(f.name, text[:100])\n",
    "    results[f.name] = text"
   ]
  },
  {
   "cell_type": "code",
   "execution_count": 36,
   "id": "c64080fe-3f16-4565-9b81-987332dcc8ce",
   "metadata": {},
   "outputs": [],
   "source": [
    "import pickle"
   ]
  },
  {
   "cell_type": "code",
   "execution_count": 37,
   "id": "52a4249a-7528-4a2b-81a5-6987493bd614",
   "metadata": {},
   "outputs": [],
   "source": [
    "with open('results.bin', 'wb') as f_out:\n",
    "    pickle.dump(results, f_out)"
   ]
  },
  {
   "cell_type": "code",
   "execution_count": 40,
   "id": "6995c8ac-402d-48a0-a387-ecd5a25ba283",
   "metadata": {},
   "outputs": [],
   "source": [
    "import re\n",
    "\n",
    "def sort_audio_logs(log_dict):\n",
    "    # Sort the dictionary items using a lambda function\n",
    "    sorted_items = sorted(\n",
    "        log_dict.items(),\n",
    "        key=lambda x: int(re.search(r'audio_(\\d+)@', x[0]).group(1))\n",
    "    )\n",
    "    \n",
    "    return sorted_items"
   ]
  },
  {
   "cell_type": "code",
   "execution_count": 41,
   "id": "80a31864-303b-4077-88a1-f5720e5660f5",
   "metadata": {},
   "outputs": [],
   "source": [
    "sorted_logs = sort_audio_logs(results)"
   ]
  },
  {
   "cell_type": "code",
   "execution_count": 61,
   "id": "45807512-6997-43c1-a004-f0bd274d77fa",
   "metadata": {},
   "outputs": [],
   "source": [
    "import re\n",
    "import pandas as pd\n",
    "from datetime import datetime, timedelta\n"
   ]
  },
  {
   "cell_type": "code",
   "execution_count": 62,
   "id": "fc5e9da0-f956-48bb-8b57-17da555cbbfe",
   "metadata": {},
   "outputs": [],
   "source": [
    "\n",
    "def create_audio_log_dataframe(log_list):\n",
    "    data = []\n",
    "    for filename, text in log_list:\n",
    "        # Extract number\n",
    "        number_match = re.search(r'audio_(\\d+)@', filename)\n",
    "        number = int(number_match.group(1)) if number_match else None\n",
    "        \n",
    "        # Extract datetime\n",
    "        datetime_match = re.search(r'@(\\d{2}-\\d{2}-\\d{4}_\\d{2}-\\d{2}-\\d{2})\\.ogg', filename)\n",
    "        if datetime_match:\n",
    "            datetime_str = datetime_match.group(1)\n",
    "            dt = datetime.strptime(datetime_str, '%d-%m-%Y_%H-%M-%S')\n",
    "        else:\n",
    "            dt = None\n",
    "        \n",
    "        data.append({\n",
    "            'filename': filename,\n",
    "            'number': number,\n",
    "            'datetime': dt,\n",
    "            'text': text.strip()\n",
    "        })\n",
    "    \n",
    "    return pd.DataFrame(data)"
   ]
  },
  {
   "cell_type": "code",
   "execution_count": 63,
   "id": "73d80b07-1371-450a-95bd-38e692a1ba0a",
   "metadata": {},
   "outputs": [],
   "source": [
    "df = create_audio_log_dataframe(results.items())"
   ]
  },
  {
   "cell_type": "code",
   "execution_count": 64,
   "id": "796f4c06-f27e-4250-ad27-dc3976a5bfb0",
   "metadata": {},
   "outputs": [],
   "source": [
    "df = df.sort_values(by='number')"
   ]
  },
  {
   "cell_type": "code",
   "execution_count": 65,
   "id": "437034d4-a767-4168-8ab1-43d0ceb43364",
   "metadata": {},
   "outputs": [
    {
     "data": {
      "text/html": [
       "<div>\n",
       "<style scoped>\n",
       "    .dataframe tbody tr th:only-of-type {\n",
       "        vertical-align: middle;\n",
       "    }\n",
       "\n",
       "    .dataframe tbody tr th {\n",
       "        vertical-align: top;\n",
       "    }\n",
       "\n",
       "    .dataframe thead th {\n",
       "        text-align: right;\n",
       "    }\n",
       "</style>\n",
       "<table border=\"1\" class=\"dataframe\">\n",
       "  <thead>\n",
       "    <tr style=\"text-align: right;\">\n",
       "      <th></th>\n",
       "      <th>filename</th>\n",
       "      <th>number</th>\n",
       "      <th>datetime</th>\n",
       "      <th>text</th>\n",
       "    </tr>\n",
       "  </thead>\n",
       "  <tbody>\n",
       "    <tr>\n",
       "      <th>110</th>\n",
       "      <td>audio_1@04-07-2023_10-06-31.ogg</td>\n",
       "      <td>1</td>\n",
       "      <td>2023-07-04 10:06:31</td>\n",
       "      <td>Maria from YLABS is asking about the USD accou...</td>\n",
       "    </tr>\n",
       "    <tr>\n",
       "      <th>122</th>\n",
       "      <td>audio_2@23-08-2023_13-35-55.ogg</td>\n",
       "      <td>2</td>\n",
       "      <td>2023-08-23 13:35:55</td>\n",
       "      <td>Hey, I just added, I just closed one of the ne...</td>\n",
       "    </tr>\n",
       "    <tr>\n",
       "      <th>133</th>\n",
       "      <td>audio_3@20-11-2023_15-54-31.ogg</td>\n",
       "      <td>3</td>\n",
       "      <td>2023-11-20 15:54:31</td>\n",
       "      <td>So what I was going to write here is, no, we u...</td>\n",
       "    </tr>\n",
       "    <tr>\n",
       "      <th>144</th>\n",
       "      <td>audio_4@20-11-2023_15-55-06.ogg</td>\n",
       "      <td>4</td>\n",
       "      <td>2023-11-20 15:55:06</td>\n",
       "      <td>But you can tell here that we will tag weights...</td>\n",
       "    </tr>\n",
       "    <tr>\n",
       "      <th>155</th>\n",
       "      <td>audio_5@27-11-2023_15-30-31.ogg</td>\n",
       "      <td>5</td>\n",
       "      <td>2023-11-27 15:30:31</td>\n",
       "      <td>So, I know that right now for Luma we use squa...</td>\n",
       "    </tr>\n",
       "    <tr>\n",
       "      <th>...</th>\n",
       "      <td>...</td>\n",
       "      <td>...</td>\n",
       "      <td>...</td>\n",
       "      <td>...</td>\n",
       "    </tr>\n",
       "    <tr>\n",
       "      <th>105</th>\n",
       "      <td>audio_196@29-08-2024_20-19-30.ogg</td>\n",
       "      <td>196</td>\n",
       "      <td>2024-08-29 20:19:30</td>\n",
       "      <td>I just noticed that you added the ParadeDB vid...</td>\n",
       "    </tr>\n",
       "    <tr>\n",
       "      <th>106</th>\n",
       "      <td>audio_197@31-08-2024_09-52-31.ogg</td>\n",
       "      <td>197</td>\n",
       "      <td>2024-08-31 09:52:31</td>\n",
       "      <td>yeah when you download the files so you don't ...</td>\n",
       "    </tr>\n",
       "    <tr>\n",
       "      <th>107</th>\n",
       "      <td>audio_198@31-08-2024_09-52-35.ogg</td>\n",
       "      <td>198</td>\n",
       "      <td>2024-08-31 09:52:35</td>\n",
       "      <td>Is it not mentioned in the process documents?</td>\n",
       "    </tr>\n",
       "    <tr>\n",
       "      <th>108</th>\n",
       "      <td>audio_199@02-09-2024_09-58-02.ogg</td>\n",
       "      <td>199</td>\n",
       "      <td>2024-09-02 09:58:02</td>\n",
       "      <td>So the process is, you need to create a copy, ...</td>\n",
       "    </tr>\n",
       "    <tr>\n",
       "      <th>111</th>\n",
       "      <td>audio_200@02-09-2024_09-58-22.ogg</td>\n",
       "      <td>200</td>\n",
       "      <td>2024-09-02 09:58:22</td>\n",
       "      <td>and so in these cases when you are not sure wh...</td>\n",
       "    </tr>\n",
       "  </tbody>\n",
       "</table>\n",
       "<p>200 rows × 4 columns</p>\n",
       "</div>"
      ],
      "text/plain": [
       "                              filename  number            datetime  \\\n",
       "110    audio_1@04-07-2023_10-06-31.ogg       1 2023-07-04 10:06:31   \n",
       "122    audio_2@23-08-2023_13-35-55.ogg       2 2023-08-23 13:35:55   \n",
       "133    audio_3@20-11-2023_15-54-31.ogg       3 2023-11-20 15:54:31   \n",
       "144    audio_4@20-11-2023_15-55-06.ogg       4 2023-11-20 15:55:06   \n",
       "155    audio_5@27-11-2023_15-30-31.ogg       5 2023-11-27 15:30:31   \n",
       "..                                 ...     ...                 ...   \n",
       "105  audio_196@29-08-2024_20-19-30.ogg     196 2024-08-29 20:19:30   \n",
       "106  audio_197@31-08-2024_09-52-31.ogg     197 2024-08-31 09:52:31   \n",
       "107  audio_198@31-08-2024_09-52-35.ogg     198 2024-08-31 09:52:35   \n",
       "108  audio_199@02-09-2024_09-58-02.ogg     199 2024-09-02 09:58:02   \n",
       "111  audio_200@02-09-2024_09-58-22.ogg     200 2024-09-02 09:58:22   \n",
       "\n",
       "                                                  text  \n",
       "110  Maria from YLABS is asking about the USD accou...  \n",
       "122  Hey, I just added, I just closed one of the ne...  \n",
       "133  So what I was going to write here is, no, we u...  \n",
       "144  But you can tell here that we will tag weights...  \n",
       "155  So, I know that right now for Luma we use squa...  \n",
       "..                                                 ...  \n",
       "105  I just noticed that you added the ParadeDB vid...  \n",
       "106  yeah when you download the files so you don't ...  \n",
       "107      Is it not mentioned in the process documents?  \n",
       "108  So the process is, you need to create a copy, ...  \n",
       "111  and so in these cases when you are not sure wh...  \n",
       "\n",
       "[200 rows x 4 columns]"
      ]
     },
     "execution_count": 65,
     "metadata": {},
     "output_type": "execute_result"
    }
   ],
   "source": [
    "df"
   ]
  },
  {
   "cell_type": "code",
   "execution_count": 66,
   "id": "fde9d182-f22d-4f5c-b43e-98cb2396ef5c",
   "metadata": {},
   "outputs": [],
   "source": [
    "df.to_csv('transcribed.csv', index=False)"
   ]
  },
  {
   "cell_type": "code",
   "execution_count": 67,
   "id": "9ff2fdfc-ec17-48c3-9981-43a5600f9159",
   "metadata": {},
   "outputs": [
    {
     "data": {
      "text/plain": [
       "110    1026\n",
       "122     236\n",
       "133     638\n",
       "144     178\n",
       "155     591\n",
       "       ... \n",
       "105     768\n",
       "106     161\n",
       "107      45\n",
       "108     550\n",
       "111     163\n",
       "Name: text, Length: 200, dtype: int64"
      ]
     },
     "execution_count": 67,
     "metadata": {},
     "output_type": "execute_result"
    }
   ],
   "source": [
    "df.text.str.len()"
   ]
  },
  {
   "cell_type": "code",
   "execution_count": 68,
   "id": "1b3062be-ac43-4c0b-8050-b6e95713e41d",
   "metadata": {},
   "outputs": [],
   "source": [
    "def group_close_recordings(df):\n",
    "    df = df.sort_values('datetime')\n",
    "    grouped_data = []\n",
    "    current_group = []\n",
    "    \n",
    "    for _, row in df.iterrows():\n",
    "        if not current_group or (row['datetime'] - current_group[-1]['datetime'] <= timedelta(minutes=1)):\n",
    "            current_group.append(row)\n",
    "        else:\n",
    "            grouped_data.append(process_group(current_group))\n",
    "            current_group = [row]\n",
    "    \n",
    "    if current_group:\n",
    "        grouped_data.append(process_group(current_group))\n",
    "    \n",
    "    return pd.DataFrame(grouped_data)\n",
    "\n",
    "\n",
    "def process_group(group):\n",
    "    return {\n",
    "        'filename': ','.join(row['filename'] for row in group),\n",
    "        'number': ','.join(str(row['number']) for row in group),\n",
    "        'datetime': group[0]['datetime'],\n",
    "        'text': ' '.join(row['text'] for row in group)\n",
    "    }\n"
   ]
  },
  {
   "cell_type": "code",
   "execution_count": 69,
   "id": "1875ea8a-d8b9-4a36-8d03-601c7c8523fa",
   "metadata": {},
   "outputs": [],
   "source": [
    "df_grouped = group_close_recordings(df)"
   ]
  },
  {
   "cell_type": "code",
   "execution_count": 71,
   "id": "b6575039-42b8-4ed8-967f-573929757fa2",
   "metadata": {},
   "outputs": [],
   "source": [
    "df_grouped.to_csv('transcribed-groups.csv', index=False)"
   ]
  },
  {
   "cell_type": "code",
   "execution_count": 73,
   "id": "1cc2d741-9951-48ad-ad5a-deeec069dbec",
   "metadata": {},
   "outputs": [
    {
     "data": {
      "text/html": [
       "<div>\n",
       "<style scoped>\n",
       "    .dataframe tbody tr th:only-of-type {\n",
       "        vertical-align: middle;\n",
       "    }\n",
       "\n",
       "    .dataframe tbody tr th {\n",
       "        vertical-align: top;\n",
       "    }\n",
       "\n",
       "    .dataframe thead th {\n",
       "        text-align: right;\n",
       "    }\n",
       "</style>\n",
       "<table border=\"1\" class=\"dataframe\">\n",
       "  <thead>\n",
       "    <tr style=\"text-align: right;\">\n",
       "      <th></th>\n",
       "      <th>filename</th>\n",
       "      <th>number</th>\n",
       "      <th>datetime</th>\n",
       "      <th>text</th>\n",
       "    </tr>\n",
       "  </thead>\n",
       "  <tbody>\n",
       "    <tr>\n",
       "      <th>0</th>\n",
       "      <td>audio_1@04-07-2023_10-06-31.ogg</td>\n",
       "      <td>1</td>\n",
       "      <td>2023-07-04 10:06:31</td>\n",
       "      <td>Maria from YLABS is asking about the USD accou...</td>\n",
       "    </tr>\n",
       "    <tr>\n",
       "      <th>1</th>\n",
       "      <td>audio_2@23-08-2023_13-35-55.ogg</td>\n",
       "      <td>2</td>\n",
       "      <td>2023-08-23 13:35:55</td>\n",
       "      <td>Hey, I just added, I just closed one of the ne...</td>\n",
       "    </tr>\n",
       "    <tr>\n",
       "      <th>2</th>\n",
       "      <td>audio_3@20-11-2023_15-54-31.ogg,audio_4@20-11-...</td>\n",
       "      <td>3,4</td>\n",
       "      <td>2023-11-20 15:54:31</td>\n",
       "      <td>So what I was going to write here is, no, we u...</td>\n",
       "    </tr>\n",
       "    <tr>\n",
       "      <th>3</th>\n",
       "      <td>audio_5@27-11-2023_15-30-31.ogg</td>\n",
       "      <td>5</td>\n",
       "      <td>2023-11-27 15:30:31</td>\n",
       "      <td>So, I know that right now for Luma we use squa...</td>\n",
       "    </tr>\n",
       "    <tr>\n",
       "      <th>4</th>\n",
       "      <td>audio_6@09-12-2023_17-35-55.ogg</td>\n",
       "      <td>6</td>\n",
       "      <td>2023-12-09 17:35:55</td>\n",
       "      <td>Hey, Francis, what would be convenient if you ...</td>\n",
       "    </tr>\n",
       "    <tr>\n",
       "      <th>...</th>\n",
       "      <td>...</td>\n",
       "      <td>...</td>\n",
       "      <td>...</td>\n",
       "      <td>...</td>\n",
       "    </tr>\n",
       "    <tr>\n",
       "      <th>144</th>\n",
       "      <td>audio_194@27-08-2024_13-25-05.ogg</td>\n",
       "      <td>194</td>\n",
       "      <td>2024-08-27 13:25:05</td>\n",
       "      <td>I just forwarded you a message for a newslette...</td>\n",
       "    </tr>\n",
       "    <tr>\n",
       "      <th>145</th>\n",
       "      <td>audio_195@27-08-2024_13-34-49.ogg</td>\n",
       "      <td>195</td>\n",
       "      <td>2024-08-27 13:34:49</td>\n",
       "      <td>Also, I want you to focus this week on getting...</td>\n",
       "    </tr>\n",
       "    <tr>\n",
       "      <th>146</th>\n",
       "      <td>audio_196@29-08-2024_20-19-30.ogg</td>\n",
       "      <td>196</td>\n",
       "      <td>2024-08-29 20:19:30</td>\n",
       "      <td>I just noticed that you added the ParadeDB vid...</td>\n",
       "    </tr>\n",
       "    <tr>\n",
       "      <th>147</th>\n",
       "      <td>audio_197@31-08-2024_09-52-31.ogg,audio_198@31...</td>\n",
       "      <td>197,198</td>\n",
       "      <td>2024-08-31 09:52:31</td>\n",
       "      <td>yeah when you download the files so you don't ...</td>\n",
       "    </tr>\n",
       "    <tr>\n",
       "      <th>148</th>\n",
       "      <td>audio_199@02-09-2024_09-58-02.ogg,audio_200@02...</td>\n",
       "      <td>199,200</td>\n",
       "      <td>2024-09-02 09:58:02</td>\n",
       "      <td>So the process is, you need to create a copy, ...</td>\n",
       "    </tr>\n",
       "  </tbody>\n",
       "</table>\n",
       "<p>149 rows × 4 columns</p>\n",
       "</div>"
      ],
      "text/plain": [
       "                                              filename   number  \\\n",
       "0                      audio_1@04-07-2023_10-06-31.ogg        1   \n",
       "1                      audio_2@23-08-2023_13-35-55.ogg        2   \n",
       "2    audio_3@20-11-2023_15-54-31.ogg,audio_4@20-11-...      3,4   \n",
       "3                      audio_5@27-11-2023_15-30-31.ogg        5   \n",
       "4                      audio_6@09-12-2023_17-35-55.ogg        6   \n",
       "..                                                 ...      ...   \n",
       "144                  audio_194@27-08-2024_13-25-05.ogg      194   \n",
       "145                  audio_195@27-08-2024_13-34-49.ogg      195   \n",
       "146                  audio_196@29-08-2024_20-19-30.ogg      196   \n",
       "147  audio_197@31-08-2024_09-52-31.ogg,audio_198@31...  197,198   \n",
       "148  audio_199@02-09-2024_09-58-02.ogg,audio_200@02...  199,200   \n",
       "\n",
       "               datetime                                               text  \n",
       "0   2023-07-04 10:06:31  Maria from YLABS is asking about the USD accou...  \n",
       "1   2023-08-23 13:35:55  Hey, I just added, I just closed one of the ne...  \n",
       "2   2023-11-20 15:54:31  So what I was going to write here is, no, we u...  \n",
       "3   2023-11-27 15:30:31  So, I know that right now for Luma we use squa...  \n",
       "4   2023-12-09 17:35:55  Hey, Francis, what would be convenient if you ...  \n",
       "..                  ...                                                ...  \n",
       "144 2024-08-27 13:25:05  I just forwarded you a message for a newslette...  \n",
       "145 2024-08-27 13:34:49  Also, I want you to focus this week on getting...  \n",
       "146 2024-08-29 20:19:30  I just noticed that you added the ParadeDB vid...  \n",
       "147 2024-08-31 09:52:31  yeah when you download the files so you don't ...  \n",
       "148 2024-09-02 09:58:02  So the process is, you need to create a copy, ...  \n",
       "\n",
       "[149 rows x 4 columns]"
      ]
     },
     "execution_count": 73,
     "metadata": {},
     "output_type": "execute_result"
    }
   ],
   "source": [
    "df_grouped"
   ]
  },
  {
   "cell_type": "code",
   "execution_count": 74,
   "id": "5a7749a1-ebc8-426d-91fd-a65c9d0d3920",
   "metadata": {},
   "outputs": [],
   "source": [
    "def llm(prompt):\n",
    "    response = client.chat.completions.create(\n",
    "        model='gpt-4o-mini',\n",
    "        messages=[{\"role\": \"user\", \"content\": prompt}]\n",
    "    )\n",
    "    \n",
    "    return response.choices[0].message.content"
   ]
  },
  {
   "cell_type": "code",
   "execution_count": 100,
   "id": "0db09347-529b-4304-9dd1-995e93e2970f",
   "metadata": {},
   "outputs": [],
   "source": [
    "prompt_template = \"\"\"\n",
    "You are a professional transcript editor. We give you a voice note transcript,\n",
    "and you need to edit it, so it reads naturally, clearly, and it's structured and concise. \n",
    "\n",
    "For each new thing discussed in the transcript, create a new paragraph.\n",
    "\n",
    "Start the text with a title. Don't include any markup.\n",
    "\n",
    "Transcript: {transcript}\n",
    "\n",
    "Output format:\n",
    "\n",
    "Title\n",
    "\n",
    "Edited text\n",
    "\"\"\".strip()"
   ]
  },
  {
   "cell_type": "code",
   "execution_count": 101,
   "id": "fd581eeb-42b0-4333-aefb-2954a52fcba1",
   "metadata": {},
   "outputs": [],
   "source": [
    "transcript = df_grouped.iloc[-1].text"
   ]
  },
  {
   "cell_type": "code",
   "execution_count": 102,
   "id": "3da17a12-ced0-415c-93f5-1e3e7ed28312",
   "metadata": {},
   "outputs": [],
   "source": [
    "prompt = prompt_template.format(transcript=transcript)"
   ]
  },
  {
   "cell_type": "code",
   "execution_count": 103,
   "id": "ed829f4c-315c-499c-b500-690a36a6fb0f",
   "metadata": {},
   "outputs": [
    {
     "data": {
      "text/plain": [
       "\"You are a professional transcript editor. We give you a voice note transcript,\\nand you need to edit it, so it reads naturally, clearly, and it's structured and concise. \\n\\nFor each new thing discussed in the transcript, create a new paragraph.\\n\\nStart the text with a title. Don't include any markup.\\n\\nTranscript: So the process is, you need to create a copy, like a special, we have a template, a document. You create a copy and then you send them and they fill it in. I think I forwarded you an email a while ago from Francis, so check how he did, so he created a copy and then he also included a PDF document and I asked you to upload this PDF document somewhere and instead of sending the PDF, send the link. Right now you can just send the PDF. Do this as soon as possible because we should have done this last week and they're still waiting for our response. and so in these cases when you are not sure what to answer please let me know as soon as possible do not wait for one week when I ping you you need to be practical\\n\\nOutput format:\\n\\nTitle\\n\\nEdited text\""
      ]
     },
     "execution_count": 103,
     "metadata": {},
     "output_type": "execute_result"
    }
   ],
   "source": [
    "prompt"
   ]
  },
  {
   "cell_type": "code",
   "execution_count": 104,
   "id": "94d54aca-b52d-4f5d-8c36-20664957c784",
   "metadata": {},
   "outputs": [],
   "source": [
    "result = llm(prompt)"
   ]
  },
  {
   "cell_type": "code",
   "execution_count": 105,
   "id": "ecd2b0bf-bf95-4024-832a-d1211347b111",
   "metadata": {},
   "outputs": [
    {
     "name": "stdout",
     "output_type": "stream",
     "text": [
      "Process Overview for Document Submission\n",
      "\n",
      "To initiate the process, you need to create a copy of a specific template document. After creating the copy, send it to the recipients so that they can fill it in. I previously forwarded you an email from Francis as an example, which you should review to understand his approach. He not only created the copy but also included a PDF document.\n",
      "\n",
      "Once you have the PDF ready, please upload it to a designated location and share the link instead of sending the PDF directly. It's important that you complete this task as soon as possible since we should have addressed this last week, and the recipients are still waiting for our response.\n",
      "\n",
      "In cases where you're uncertain about how to proceed or what to answer, please reach out to me immediately. Do not delay for an entire week; I expect you to be proactive in resolving these issues.\n"
     ]
    }
   ],
   "source": [
    "print(result)"
   ]
  },
  {
   "cell_type": "code",
   "execution_count": 109,
   "id": "74be0884-c208-4e03-af3b-823b09d81023",
   "metadata": {},
   "outputs": [
    {
     "data": {
      "application/vnd.jupyter.widget-view+json": {
       "model_id": "714d2b64a56448fcb7f8a9013a084a4d",
       "version_major": 2,
       "version_minor": 0
      },
      "text/plain": [
       "  0%|          | 0/149 [00:00<?, ?it/s]"
      ]
     },
     "metadata": {},
     "output_type": "display_data"
    }
   ],
   "source": [
    "results = []\n",
    "\n",
    "for transcript in tqdm(df_grouped.text):\n",
    "    if len(transcript) <= 80:\n",
    "        results.append(None)\n",
    "        continue\n",
    "\n",
    "    prompt = prompt_template.format(transcript=transcript)\n",
    "    result = llm(prompt)\n",
    "    results.append(result)"
   ]
  },
  {
   "cell_type": "code",
   "execution_count": 117,
   "id": "cca51e9b-596b-48fb-8e39-43a828f76c6f",
   "metadata": {},
   "outputs": [],
   "source": [
    "titles = []\n",
    "edited = []\n",
    "\n",
    "for result in results:\n",
    "    if result is None:\n",
    "        titles.append(None)\n",
    "        edited.append(None)\n",
    "        continue\n",
    "    title, text = result.split('\\n', maxsplit=1)\n",
    "    titles.append(title.strip())\n",
    "    edited.append(text.strip())"
   ]
  },
  {
   "cell_type": "code",
   "execution_count": 120,
   "id": "2e06cece-91a7-4d3c-8dac-62eed96f7506",
   "metadata": {},
   "outputs": [],
   "source": [
    "df_grouped['title'] = titles\n",
    "df_grouped['edited'] = edited"
   ]
  },
  {
   "cell_type": "code",
   "execution_count": 123,
   "id": "fb837a98-c56d-475a-be20-49546ff8b6da",
   "metadata": {},
   "outputs": [],
   "source": [
    "df_grouped.to_csv('edited-transcripts.csv', index=False)"
   ]
  },
  {
   "cell_type": "code",
   "execution_count": 124,
   "id": "754db34a-d3f7-4f00-8f50-88518c9c5a70",
   "metadata": {},
   "outputs": [],
   "source": [
    "df_sorted = df_grouped.sort_values(by='datetime', ascending=False)"
   ]
  },
  {
   "cell_type": "code",
   "execution_count": 125,
   "id": "969a6ea7-4630-4ba6-a955-7130f6b1ba02",
   "metadata": {},
   "outputs": [
    {
     "data": {
      "text/html": [
       "<div>\n",
       "<style scoped>\n",
       "    .dataframe tbody tr th:only-of-type {\n",
       "        vertical-align: middle;\n",
       "    }\n",
       "\n",
       "    .dataframe tbody tr th {\n",
       "        vertical-align: top;\n",
       "    }\n",
       "\n",
       "    .dataframe thead th {\n",
       "        text-align: right;\n",
       "    }\n",
       "</style>\n",
       "<table border=\"1\" class=\"dataframe\">\n",
       "  <thead>\n",
       "    <tr style=\"text-align: right;\">\n",
       "      <th></th>\n",
       "      <th>filename</th>\n",
       "      <th>number</th>\n",
       "      <th>datetime</th>\n",
       "      <th>text</th>\n",
       "      <th>title</th>\n",
       "      <th>edited</th>\n",
       "    </tr>\n",
       "  </thead>\n",
       "  <tbody>\n",
       "    <tr>\n",
       "      <th>148</th>\n",
       "      <td>audio_199@02-09-2024_09-58-02.ogg,audio_200@02...</td>\n",
       "      <td>199,200</td>\n",
       "      <td>2024-09-02 09:58:02</td>\n",
       "      <td>So the process is, you need to create a copy, ...</td>\n",
       "      <td>Process for Document Submission</td>\n",
       "      <td>To begin, you need to create a copy using our ...</td>\n",
       "    </tr>\n",
       "    <tr>\n",
       "      <th>147</th>\n",
       "      <td>audio_197@31-08-2024_09-52-31.ogg,audio_198@31...</td>\n",
       "      <td>197,198</td>\n",
       "      <td>2024-08-31 09:52:31</td>\n",
       "      <td>yeah when you download the files so you don't ...</td>\n",
       "      <td>Downloading Files: Important Information</td>\n",
       "      <td>When downloading the files, it's important to ...</td>\n",
       "    </tr>\n",
       "    <tr>\n",
       "      <th>146</th>\n",
       "      <td>audio_196@29-08-2024_20-19-30.ogg</td>\n",
       "      <td>196</td>\n",
       "      <td>2024-08-29 20:19:30</td>\n",
       "      <td>I just noticed that you added the ParadeDB vid...</td>\n",
       "      <td>Open Source Spotlight Video Process</td>\n",
       "      <td>I noticed that you added the ParadeDB video to...</td>\n",
       "    </tr>\n",
       "    <tr>\n",
       "      <th>145</th>\n",
       "      <td>audio_195@27-08-2024_13-34-49.ogg</td>\n",
       "      <td>195</td>\n",
       "      <td>2024-08-27 13:34:49</td>\n",
       "      <td>Also, I want you to focus this week on getting...</td>\n",
       "      <td>Podcast Priorities and Upcoming Tasks</td>\n",
       "      <td>This week, I want you to focus on completing a...</td>\n",
       "    </tr>\n",
       "    <tr>\n",
       "      <th>144</th>\n",
       "      <td>audio_194@27-08-2024_13-25-05.ogg</td>\n",
       "      <td>194</td>\n",
       "      <td>2024-08-27 13:25:05</td>\n",
       "      <td>I just forwarded you a message for a newslette...</td>\n",
       "      <td>Newsletter Promotion Process</td>\n",
       "      <td>I just forwarded you a message regarding a new...</td>\n",
       "    </tr>\n",
       "  </tbody>\n",
       "</table>\n",
       "</div>"
      ],
      "text/plain": [
       "                                              filename   number  \\\n",
       "148  audio_199@02-09-2024_09-58-02.ogg,audio_200@02...  199,200   \n",
       "147  audio_197@31-08-2024_09-52-31.ogg,audio_198@31...  197,198   \n",
       "146                  audio_196@29-08-2024_20-19-30.ogg      196   \n",
       "145                  audio_195@27-08-2024_13-34-49.ogg      195   \n",
       "144                  audio_194@27-08-2024_13-25-05.ogg      194   \n",
       "\n",
       "               datetime                                               text  \\\n",
       "148 2024-09-02 09:58:02  So the process is, you need to create a copy, ...   \n",
       "147 2024-08-31 09:52:31  yeah when you download the files so you don't ...   \n",
       "146 2024-08-29 20:19:30  I just noticed that you added the ParadeDB vid...   \n",
       "145 2024-08-27 13:34:49  Also, I want you to focus this week on getting...   \n",
       "144 2024-08-27 13:25:05  I just forwarded you a message for a newslette...   \n",
       "\n",
       "                                        title  \\\n",
       "148           Process for Document Submission   \n",
       "147  Downloading Files: Important Information   \n",
       "146       Open Source Spotlight Video Process   \n",
       "145     Podcast Priorities and Upcoming Tasks   \n",
       "144              Newsletter Promotion Process   \n",
       "\n",
       "                                                edited  \n",
       "148  To begin, you need to create a copy using our ...  \n",
       "147  When downloading the files, it's important to ...  \n",
       "146  I noticed that you added the ParadeDB video to...  \n",
       "145  This week, I want you to focus on completing a...  \n",
       "144  I just forwarded you a message regarding a new...  "
      ]
     },
     "execution_count": 125,
     "metadata": {},
     "output_type": "execute_result"
    }
   ],
   "source": [
    "df_sorted.head()"
   ]
  },
  {
   "cell_type": "code",
   "execution_count": 136,
   "id": "7f3a102a-260d-4128-9701-14fbfda039d9",
   "metadata": {},
   "outputs": [],
   "source": [
    "with open('transcripts.txt', 'w', encoding='utf-8') as f_out:\n",
    "    for _, row in df_sorted.iterrows():\n",
    "        f_out.write(f\"{row['title']}\\n\")\n",
    "        f_out.write(f\"{row['datetime']}\\n\\n\")\n",
    "\n",
    "        f_out.write(f\"{row['edited']}\\n\")\n",
    "        f_out.write(\"\\n---\\n\\n\")"
   ]
  },
  {
   "cell_type": "code",
   "execution_count": 137,
   "id": "036f56d6-43f1-48b4-98ec-0d5d33878638",
   "metadata": {},
   "outputs": [
    {
     "name": "stdout",
     "output_type": "stream",
     "text": [
      "Process for Document Submission\n",
      "2024-09-02 09:58:02\n",
      "\n",
      "To begin, you need to create a copy using our template document. Once you've created this copy, send it to the recipient so they can fill it in. \n",
      "\n",
      "I forwarded you an email from Francis a while ago. Please take a moment to check how he handled the process. He not only created a copy but also included a PDF document. I requested that you upload this PDF somewhere and send the link instead of the file itself. \n",
      "\n",
      "It's important to address this promptly, as we should have completed this task last week, and they are still waiting for our response. \n",
      "\n",
      "In cases where you are unsure of how to respond, please reach out to me as soon as possible. Don't wait for a week; it's crucial to be practical and proactive in these situations.\n"
     ]
    }
   ],
   "source": [
    "!head transcripts.txt"
   ]
  },
  {
   "cell_type": "code",
   "execution_count": 138,
   "id": "cf5863ab-2d7d-4a44-8b25-b061f923028f",
   "metadata": {},
   "outputs": [
    {
     "name": "stdout",
     "output_type": "stream",
     "text": [
      "\n"
     ]
    }
   ],
   "source": [
    "!code transcripts.txt"
   ]
  },
  {
   "cell_type": "code",
   "execution_count": null,
   "id": "65149dfe-db49-4bc9-afc1-fc6bfd8c3c1e",
   "metadata": {},
   "outputs": [],
   "source": []
  }
 ],
 "metadata": {
  "kernelspec": {
   "display_name": "Python 3 (ipykernel)",
   "language": "python",
   "name": "python3"
  },
  "language_info": {
   "codemirror_mode": {
    "name": "ipython",
    "version": 3
   },
   "file_extension": ".py",
   "mimetype": "text/x-python",
   "name": "python",
   "nbconvert_exporter": "python",
   "pygments_lexer": "ipython3",
   "version": "3.12.3"
  }
 },
 "nbformat": 4,
 "nbformat_minor": 5
}
